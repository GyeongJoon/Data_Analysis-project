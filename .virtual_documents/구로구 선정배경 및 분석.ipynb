








import pandas as pd

survey = pd.read_excel("2023_외국인_설문조사.xlsx")
survey.head()





survey.loc[:, 'GU'] = survey['GU'].replace({
    110 : '종로구',
    140 : '중구',
    170 : '용산구',
    200 : '성동구',
    215 : '광진구',
    230 : '동대문구',
    260 : '중랑구',
    290 : '성북구',
    305 : '강북구',
    320 : '도봉구',
    350 : '노원구',
    380 : '은평구',
    410 : '서대문구',
    440 : '마포구',
    470 : '양천구',
    500 : '강서구',
    530 : '구로구',
    545 : '금천구',
    560 : '영등포구',
    590 : '동작구',
    620 : '관악구',
    650 : '서초구',
    680 : '강남구',
    710 : '송파구',
    740 : '강동구'
})
survey





district_10 = [
    '구로구', '영등포구', '동대문구', '관악구', '용산구', 
    '광진구', '서대문구', '금천구', '성북구', '마포구'
]

filtered_survey = survey[survey['GU'].isin(district_10)].reset_index(drop = True)
filtered_survey





selected_columns = ['GU', 'Q081', 'Q082', 'Q083', 'Q084', 'Q085']
selected_survey = filtered_survey[selected_columns]
selected_survey





selected_survey.loc[:, '행복지수_총합'] = selected_survey['Q081'] + selected_survey['Q082'] + selected_survey['Q083'] + selected_survey['Q084'] + selected_survey['Q085']
selected_survey





selected_survey = selected_survey.rename(columns = {
     'GU' : '구',
    'Q081' : '자신의 건강상태',
    'Q082' : '자신의 재정상태',
    'Q083' : '주위 친지, 친구와의 관계',
    'Q084' : '가정생활',
    'Q085' : '사회생활(직장, 학교생활)'
})
selected_survey





selected_survey.isna().sum()





selected_columns = '행복지수_총합'
result = selected_survey.groupby('구')[selected_columns].mean().reset_index()
result = result.sort_values(by = '행복지수_총합', ascending = False).reset_index(drop = True)
result





import pandas as pd
import matplotlib.pyplot as plt
import seaborn as sns

sns.set(style="whitegrid")
plt.rcParams.update({'font.family' : 'Malgun Gothic'})

plt.figure(figsize=(12, 8))

ax = sns.barplot(x='행복지수_총합', y='구', data=result, palette='viridis')

ax.set_title('서울시 구별 행복지수', fontsize=16)
ax.set_xlabel('행복지수', fontsize=14)
ax.set_ylabel('구', fontsize=14)

for i in ax.containers:
    ax.bar_label(i, fmt='%.2f', fontsize=12)

plt.show()








import pandas as pd

survey = pd.read_excel("2023_외국인_설문조사.xlsx")
survey.head()





survey.loc[:, 'GU'] = survey['GU'].replace({
    110 : '종로구',
    140 : '중구',
    170 : '용산구',
    200 : '성동구',
    215 : '광진구',
    230 : '동대문구',
    260 : '중랑구',
    290 : '성북구',
    305 : '강북구',
    320 : '도봉구',
    350 : '노원구',
    380 : '은평구',
    410 : '서대문구',
    440 : '마포구',
    470 : '양천구',
    500 : '강서구',
    530 : '구로구',
    545 : '금천구',
    560 : '영등포구',
    590 : '동작구',
    620 : '관악구',
    650 : '서초구',
    680 : '강남구',
    710 : '송파구',
    740 : '강동구'
})
survey





district_10 = [
    '구로구', '영등포구', '동대문구', '관악구', '용산구', 
    '광진구', '서대문구', '금천구', '성북구', '마포구'
]

filtered_survey = survey[survey['GU'].isin(district_10)].reset_index(drop = True)
filtered_survey





selected_columns = ['GU', 'Q031', 'Q032', 'Q033', 'Q034', 'Q035', 'Q036']
selected_survey = filtered_survey[selected_columns]
selected_survey





selected_survey['삶의_질_만족도_총합'] =selected_survey['Q031'] + selected_survey['Q032'] + selected_survey['Q033'] + selected_survey['Q034'] + selected_survey['Q035'] + selected_survey['Q036']
selected_survey





selected_survey = selected_survey.rename(columns = {
    'GU' : '구',
    'Q031' : '주거환경(상하수도, 전기, 통신, 주택, 교통, 녹지 등)',
    'Q032' : '경제환경(구직, 소득, 근로시간 등)',
    'Q033' : '복지환경(의료, 사회보장 등)',
    'Q034' : '사회환경(외국인에 대한 배려, 포용성 등)',
    'Q035' : '교육환경(교육비, 교육기회 등)',
    'Q036' : '도시안전(범죄, 사고, 재해 등)'
})
selected_survey





selected_survey.isna().sum()





selected_columns = '삶의_질_만족도_총합'
result = selected_survey.groupby('구')[selected_columns].mean().reset_index()
result = result.sort_values(by = '삶의_질_만족도_총합', ascending = False).reset_index(drop = True)
result





import pandas as pd
import matplotlib.pyplot as plt
import seaborn as sns

sns.set(style="whitegrid")
plt.rcParams.update({'font.family' : 'Malgun Gothic'})

plt.figure(figsize=(12, 8))

ax = sns.barplot(x='삶의_질_만족도_총합', y='구', data=result, palette='viridis')

ax.set_title('서울시 구별 삶의 질 만족도', fontsize=16)
ax.set_xlabel('삶의 질 만족도', fontsize=14)
ax.set_ylabel('구', fontsize=14)

for i in ax.containers:
    ax.bar_label(i, fmt='%.2f', fontsize=12)

plt.show()



