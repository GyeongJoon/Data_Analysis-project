








import pandas as pd

region_nationality = pd.read_excel('2023_지역별_국적별_등록외국인.xlsx')
region_nationality.head()





region_nationality = region_nationality[(region_nationality['시군구'] == '총계') & (region_nationality['시도'] != '총합계')]
region_nationality.head()





region_nationality = region_nationality[['시도', '총합계']].reset_index(drop = True)
region_nationality = region_nationality.sort_values(by = '총합계', ascending = False).reset_index(drop = True)
region_nationality





area = [10199.70,
        605.2,  
        10542.50,
        8247.50, 
        1067.10, 
        18424.10,
        7407 , 
        771.3,  
        12362.30, 
        8073.30 , 
        1499.50,  
        501,  
        16830.80, 
        1850.30,  
        539.78,  
        1062.80,
        465]
region_nationality['면적(㎢)'] = area
region_nationality['면적_대비_외국인_비율'] = region_nationality['총합계'] / region_nationality['면적(㎢)']
region_nationality = region_nationality.sort_values(by='면적_대비_외국인_비율', ascending=False)
region_nationality





import matplotlib.pyplot as plt

cmap = plt.get_cmap('plasma')
colors = [cmap(i / len(region_nationality)) for i in range(len(region_nationality))]

plt.style.use('ggplot')
plt.rcParams.update({'font.family': 'Malgun Gothic'})

regions = region_nationality['시도']
foreign_ratio = region_nationality['면적_대비_외국인_비율']

fig, ax = plt.subplots(figsize=(12, 8))
bars = ax.bar(regions, foreign_ratio, color=colors, edgecolor='black')

for bar in bars:
    height = bar.get_height()
    ax.text(bar.get_x() + bar.get_width() / 2, height, f'{height:.2f}%', ha='center', va='bottom')

plt.xticks(rotation=70)
plt.xlabel('지역')
plt.ylabel('면적 대비 외국인 비율 (%)')
plt.title('지역별 면적 대비 외국인 비율')

plt.tight_layout()

plt.show()





import geopandas as gpd
import folium
from shapely.geometry import shape
from IPython.display import display
import json

json_file_path = 'SIDO_MAP_2022.json'

with open(json_file_path, 'r', encoding='utf-8') as file:
    geo_data = json.load(file)

region_nationality['면적_대비_외국인_비율'].replace(0, pd.NA, inplace=True)

korea_center = [36.5, 127.5]

m = folium.Map(location=korea_center, zoom_start=7, tiles=None)

if geo_data is None:
    print("GeoJSON 데이터를 불러오는 데 문제가 발생했습니다.")
else:
    folium.GeoJson(
        geo_data,
        style_function=lambda feature: {
            'fillColor': 'white',
            'color': 'black',
            'weight': 2,
            'fillOpacity': 0.7,
        }
    ).add_to(m)

    choropleth = folium.Choropleth(
        geo_data=geo_data,
        name='choropleth',
        data=region_nationality,
        columns=['시도', '면적_대비_외국인_비율'],
        key_on='feature.properties.CTP_KOR_NM',
        fill_color='YlOrRd',
        fill_opacity=0.7,
        line_opacity=0.2,
        legend_name='면적 대비 외국인 비율 (%)',
        nan_fill_color='lightgrey'
    ).add_to(m)

    for idx, row in region_nationality.iterrows():
        for feature in geo_data['features']:
            if feature['properties']['CTP_KOR_NM'] == row['시도']:
                polygon = shape(feature['geometry'])
                center = polygon.centroid
                folium.Marker(
                    location=[center.y, center.x],
                    popup=f"{row['시도']}: {row['면적_대비_외국인_비율']:.2f}%",
                    icon=folium.DivIcon(html=f"""
                        <div style='
                            font-size: 10pt;
                            color: black;
                            background-color: rgba(255, 255, 255, 0.7);
                            border: 1px solid black;
                            border-radius: 3px;
                            padding: 2px 4px;
                            white-space: nowrap;
                            display: inline-block;
                        '>
                            {row['시도']}
                        </div>
                    """)
                ).add_to(m)
                break

    display(m)











import pandas as pd

region_nationality = pd.read_excel('2023_지역별_국적별_등록외국인.xlsx')
region_nationality.head()





seoul = region_nationality[region_nationality['시도'] == '서울특별시']
seoul = seoul.reset_index(drop = True)
seoul.head()











seoul = seoul[['시도', '시군구', '성별', '총합계']]
seoul





male_seoul = seoul[seoul['성별'] == '남성']
male_total = male_seoul['총합계'].sum()
print(f"성별이 '남성'인 행들의 '총합' 열 값의 총합: {male_total}")





female_seoul = seoul[seoul['성별'] == '여성']
female_total = female_seoul['총합계'].sum()
print(f"성별이 '여성'인 행들의 '총합' 열 값의 총합: {female_total}")





import matplotlib.pyplot as plt

total_sum = male_total + female_total

male_ratio = male_total / total_sum
female_ratio = female_total / total_sum

labels = ['남성', '여성']
sizes = [male_ratio, female_ratio]
colors = ['#1f77b4', '#ff7f0e'] 
explode = (0.1, 0) 

fig, ax = plt.subplots(figsize=(8, 6))
wedges, texts, autotexts = ax.pie(
    sizes, explode=explode, labels=labels, colors=colors, autopct='%1.1f%%',
    startangle=140, shadow=True, wedgeprops={'edgecolor': 'black'}
)

for text in texts:
    text.set_fontsize(14)
for autotext in autotexts:
    autotext.set_color('white')
    autotext.set_fontsize(14)
    autotext.set_weight('bold')

plt.title('남성 및 여성 비율', fontsize=18, weight='bold')
plt.axis('equal')
plt.show()








import pandas as pd

region_nationality = pd.read_excel('2023_지역별_국적별_등록외국인.xlsx')
seoul = region_nationality[region_nationality['시도'] == '서울특별시']
seoul = seoul.reset_index(drop = True)
seoul.head()





by_nationality = seoul.loc[0]
by_nationality = pd.DataFrame([by_nationality])
by_nationality.fillna(0, inplace = True)
by_nationality





by_nationality.drop(columns = ['시도', '시군구', '성별', '총합계'], inplace = True)
by_nationality = by_nationality.transpose()
by_nationality.columns = ['수']
by_nationality = by_nationality.sort_values(by = '수', ascending = False)
by_nationality = by_nationality.head(20)
by_nationality





import seaborn as sns

plt.figure(figsize = (14, 8))
palette = sns.color_palette("coolwarm", len(by_nationality))  
ax = sns.barplot(x = by_nationality.index, y = by_nationality['수'], palette = palette)

for p in ax.patches:
    ax.annotate(f'{p.get_height():,}', (p.get_x() + p.get_width() / 2., p.get_height()),
                ha='center', va='center', xytext=(0, 5), textcoords='offset points',
                fontsize=12, color='black', weight='bold')

plt.xticks(rotation = 90, fontsize = 12) 
plt.yticks(fontsize = 12)
plt.title('모국별 외국인 수 (상위 20 나라)', fontsize=16, weight='bold') 
plt.xlabel('모국', fontsize = 14) 
plt.ylabel('외국인 수', fontsize = 14)

plt.tight_layout()

plt.show()








import pandas as pd

seoul = pd.read_excel("2023_지역별_연령별_등록외국인.xlsx")
seoul = seoul[seoul['시도'] == '서울특별시']
seoul = seoul.reset_index(drop = True)
seoul.head()





seoul = seoul[seoul['성별'] == '총계']
seoul = seoul.reset_index(drop = True)
seoul





seoul['10대 미만'] = seoul['0~4세'] + seoul['5~9세']
seoul['10대'] = seoul['10~14세'] + seoul['15~19세']
seoul['20대'] = seoul['20~24세'] + seoul['25~29세']
seoul['30대'] = seoul['30~34세'] + seoul['35~39세']
seoul['40대'] = seoul['40~44세'] + seoul['45~49세']
seoul['50대'] = seoul['50~54세'] + seoul['55~59세']
seoul['60대 이상'] = seoul['60~64세'] + seoul['65~69세'] + seoul['70~74세'] + seoul['75~79세']  + seoul['80세이상']
seoul.head()





seoul_ = seoul.iloc[0, 21:]
seoul_





import matplotlib.pyplot as plt

cmap = plt.get_cmap('plasma')
colors = [cmap(i / len(seoul_)) for i in range(len(seoul_))]

ax = seoul_.plot(kind='bar', color=colors, edgecolor='black')

plt.title('연령대별 외국인 수', fontsize=16, weight='bold', color='black')
plt.xlabel('연령대', fontsize=12, weight='bold')
plt.ylabel('외국인 수', fontsize=12, weight='bold')
plt.xticks(rotation=45, ha='right', fontsize=10)
plt.yticks(fontsize=10)

plt.grid(axis='y', linestyle='--', alpha=0.7)

for p in ax.patches:
    ax.annotate(format(p.get_height(), '.0f'), 
                (p.get_x() + p.get_width() / 2., p.get_height()), 
                ha='center', va='center', 
                xytext=(0, 5), 
                textcoords='offset points',
                fontsize=10, weight='bold', color='black')

plt.tight_layout()

plt.show()








import pandas as pd

region_nationality = pd.read_excel('2023_지역별_국적별_등록외국인.xlsx')
seoul = region_nationality[region_nationality['시도'] == '서울특별시']
seoul = seoul.reset_index(drop = True)
seoul.head()





seoul = seoul[seoul['성별'] == '총계']
seoul = seoul.drop(0)
seoul = seoul.reset_index(drop = True)
seoul.head()





by_region = seoul[['시군구', '총합계']]
by_region = by_region.sort_values(by = '총합계', ascending = False)
by_region





import matplotlib.pyplot as plt

cmap = plt.get_cmap('plasma')
colors = [cmap(i / len(by_region)) for i in range(len(by_region))]

fig, ax = plt.subplots(figsize=(12, 8)) 
bars = ax.barh(by_region['시군구'], by_region['총합계'], color=colors, edgecolor='black')

plt.xlabel('외국인 수', fontsize=12, weight='bold')
plt.ylabel('서울시 구', fontsize=12, weight='bold')
plt.title('서울시 내의 구별 외국인 수', fontsize=16, weight='bold', color='navy')

plt.gca().invert_yaxis()

for bar in bars:
    width = bar.get_width()
    ax.text(width + 0.02 * width, bar.get_y() + bar.get_height()/2,
            f'{int(width):,}',
            va='center', ha='left',
            fontsize=10, weight='bold', color='black')

plt.grid(axis='x', linestyle='--', alpha=0.7)

plt.tight_layout()
plt.show()





import folium
import pandas as pd
import json
from shapely.geometry import shape
from IPython.display import display
import chardet

with open('Seoul_Gu.json', 'rb') as file:
    result = chardet.detect(file.read())

encoding = result['encoding']

with open('Seoul_Gu.json', 'r', encoding=encoding) as file:
    geo_data = json.load(file)

df = pd.DataFrame(by_region)

seoul_center = [37.5665, 126.9780]

m = folium.Map(location=seoul_center, zoom_start=11, tiles=None)

folium.GeoJson(
    geo_data,
    style_function=lambda feature: {
        'fillColor': 'white',
        'color': 'black',
        'weight': 2,
        'fillOpacity': 0.7,
    }
).add_to(m)

folium.Choropleth(
    geo_data=geo_data,
    name='choropleth',
    data=df,
    columns=['시군구', '총합계'],
    key_on='feature.properties.SIG_KOR_NM',
    fill_color='YlOrRd',
    fill_opacity=0.7,
    line_opacity=0.2,
    legend_name='총합계'
).add_to(m)

for idx, row in df.iterrows():
    for feature in geo_data['features']:
        if feature['properties']['SIG_KOR_NM'] == row['시군구']:
            polygon = shape(feature['geometry'])
            center = polygon.centroid
            folium.Marker(
                location=[center.y, center.x],
                popup=f"{row['시군구']}: {row['총합계']}명",
                icon=folium.DivIcon(html=f"""
                    <div style='
                        font-size: 10pt;
                        color: black;
                        background-color: rgba(255, 255, 255, 0.7);
                        border: 1px solid black;
                        border-radius: 3px;
                        padding: 2px 4px;
                        white-space: nowrap;
                        display: inline-block;
                    '>
                        {row['시군구']}
                    </div>
                """)
            ).add_to(m)
            break

display(m)








import pandas as pd

seoul = pd.read_excel('2023_지역별_체류자격별_등록외국인.xlsx')
seoul = seoul[seoul['시도'] == '서울특별시']
seoul





seoul = seoul.iloc[:, 4:]
seoul = seoul.reset_index(drop = True)
seoul





seoul.fillna(0, inplace = True)
seoul





sums = seoul.sum()
sums = sums.sort_values(ascending = False)
sums





import matplotlib.pyplot as plt

cmap = plt.get_cmap('viridis')
colors = [cmap(i / len(sums)) for i in range(len(sums))]

plt.figure(figsize=(12, 8))

bars = sums.plot(kind='bar', color=colors, edgecolor='black')

plt.title('체류자격별 외국인 수', fontsize=16, weight='bold', color='navy')
plt.xlabel('체류자격', fontsize=12, weight='bold')
plt.ylabel('외국인 수', fontsize=12, weight='bold')

plt.xticks(rotation=90, ha='center', fontsize=10)

plt.grid(axis='y', linestyle='--', alpha=0.7)

for bar in bars.patches:
    height = bar.get_height()
    bars.annotate(f'{int(height):,}',  
                  (bar.get_x() + bar.get_width() / 2, height),
                  ha='center', va='bottom',
                  fontsize=10, weight='bold', color='black')

plt.tight_layout()
plt.show()
