





import pandas as pd

survey = pd.read_excel("2023_외국인_설문조사.xlsx")
survey.head()





selected_columns = ['GU', 'Q0501', 'Q0502', 'Q0503', 'Q0504', 'Q0505', 'Q0506', 'Q0507', 'Q0508', 'Q0509', 'Q0510', 'Q0511', 'Q0512']
selected_survey = survey[selected_columns]
selected_survey





print(selected_survey.isna().sum())

print()

nine_counts = selected_survey[selected_columns].apply(lambda x: (x == 9).sum(), axis=0)
print("각 열에서 9의 개수:\n", nine_counts)






selected_survey = selected_survey[selected_survey['Q0502'].notna()].reset_index(drop = True)
selected_survey





selected_columns = ['GU', 'Q0501', 'Q0502', 'Q0503', 'Q0504', 'Q0505', 'Q0506', 'Q0507', 'Q0508', 'Q0509', 'Q0510', 'Q0511', 'Q0512']
result = selected_survey.groupby('GU')[selected_columns].mean().reset_index(drop = True)
result





filtered_df = result[result['GU'].isin([530])]
filtered_df['GU'] = filtered_df['GU'].replace({530: '구로구', 560: '영등포구'})
filtered_df = filtered_df.rename(columns = {
    'GU' : '구',
    'Q0501' : '언어문제',
    'Q0502' : '자녀 양육 및 교육',
    'Q0503' : '한국식 생활 문화 적용',
    'Q0504' : '음식',
    'Q0505' : '외국인에 대한 사회적 편견, 차별',
    'Q0506' : '경제 활동 기회 획득',
    'Q0507' : '한국인과의 원활한 유대 관계 맺기',
    'Q0508' : '공공 행정 기관을 통한 민원 제기 및 해결',
    'Q0509' : '지식 및 기술 습득을 위한 교육 기회 획득',
    'Q0510' : '의료 기관 이용',
    'Q0511' : '주택 등 주거 공간',
    'Q0512' : '비자 등 체류자격 취득 및 변경'
})
filtered_df





import matplotlib.pyplot as plt
import seaborn as sns

sns.set(style="whitegrid")
plt.rcParams.update({'font.family': 'Malgun Gothic'})

ax = filtered_df.set_index('구').plot(kind='bar', figsize=(12, 6))

plt.xlabel('지역')
plt.ylabel('거주 어려움')
plt.title('구로구 거주 어려움')
plt.legend(title='거주어려움 문항', loc='upper center', bbox_to_anchor=(0.5, 0.5), ncol=2)
plt.grid(axis='y')
plt.xticks(rotation = 0)

for container in ax.containers:
    for bar in container:
        height = bar.get_height()
        value = f'{height:.2f}'
        ax.text(
            bar.get_x() + bar.get_width() / 2,
            height,
            value,
            ha='center',
            va='bottom',
            fontsize=8
        )

plt.show()





import pandas as pd

survey = pd.read_excel("2023_외국인_설문조사.xlsx")

selected_columns = ['GU', 'Q0501', 'Q0502', 'Q0503', 'Q0504', 'Q0505', 'Q0506', 'Q0507', 'Q0508', 'Q0509', 'Q0510', 'Q0511', 'Q0512']
selected_survey = survey[selected_columns]

selected_survey = selected_survey[selected_survey['Q0502'].isna()].reset_index(drop = True)

selected_columns = ['GU', 'Q0501', 'Q0503', 'Q0504', 'Q0505', 'Q0506', 'Q0507', 'Q0508', 'Q0509', 'Q0510', 'Q0511', 'Q0512']
result = selected_survey.groupby('GU')[selected_columns].mean().reset_index(drop = True)

filtered_df = result[result['GU'].isin([530])]
filtered_df['GU'] = filtered_df['GU'].replace({530: '구로구', 560: '영등포구'})
filtered_df = filtered_df.rename(columns = {
    'GU' : '구',
    'Q0501' : '언어문제',
    'Q0503' : '한국식 생활 문화 적용',
    'Q0504' : '음식',
    'Q0505' : '외국인에 대한 사회적 편견, 차별',
    'Q0506' : '경제 활동 기회 획득',
    'Q0507' : '한국인과의 원활한 유대 관계 맺기',
    'Q0508' : '공공 행정 기관을 통한 민원 제기 및 해결',
    'Q0509' : '지식 및 기술 습득을 위한 교육 기회 획득',
    'Q0510' : '의료 기관 이용',
    'Q0511' : '주택 등 주거 공간',
    'Q0512' : '비자 등 체류자격 취득 및 변경'
})

import matplotlib.pyplot as plt
import seaborn as sns

sns.set(style="whitegrid")
plt.rcParams.update({'font.family': 'Malgun Gothic'})

ax = filtered_df.set_index('구').plot(kind='bar', figsize=(12, 6))

plt.xlabel('지역')
plt.ylabel('거주 어려움')
plt.title('구로구 거주 어려움')
plt.legend(title='거주어려움 문항', loc='upper center', bbox_to_anchor=(0.5, 0.5), ncol=2)
plt.grid(axis='y')
plt.xticks(rotation = 0)

for container in ax.containers:
    for bar in container:
        height = bar.get_height()
        value = f'{height:.2f}'
        ax.text(
            bar.get_x() + bar.get_width() / 2,
            height,
            value,
            ha='center',
            va='bottom',
            fontsize=8
        )

plt.show()
